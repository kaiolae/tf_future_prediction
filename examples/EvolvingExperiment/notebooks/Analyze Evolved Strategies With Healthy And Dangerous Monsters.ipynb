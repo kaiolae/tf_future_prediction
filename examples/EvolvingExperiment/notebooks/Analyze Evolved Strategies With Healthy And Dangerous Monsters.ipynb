{
 "cells": [
  {
   "cell_type": "code",
   "execution_count": 1,
   "metadata": {},
   "outputs": [],
   "source": [
    "import pandas\n",
    "import seaborn as sns\n",
    "#Params\n",
    "population_size=50\n",
    "#Summarizes collected data, combining all indivs' from 1 generation.\n",
    "def summarize_across_generations(dataframe):\n",
    "    compressed_frame = dataframe.copy()\n",
    "    compressed_frame.drop(compressed_frame.index, inplace=True)\n",
    "    \n",
    "    for indiv_count in range(len(dataframe)):\n",
    "        if indiv_count%population_size == 0:\n",
    "            #Summarizing the previous row.\n",
    "            if indiv_count!=0:\n",
    "                compressed_frame.loc[int(indiv_count/population_size)-1]/=population_size\n",
    "            #Adding a new row for the next generation.\n",
    "            compressed_frame.loc[int(indiv_count/population_size)]=[0 for n in range(len(dataframe.columns))]\n",
    "        for column in dataframe:\n",
    "            individual = dataframe[column][indiv_count]\n",
    "            compressed_frame.iloc[-1, compressed_frame.columns.get_loc(column)]+=individual\n",
    "            \n",
    "    return compressed_frame\n",
    "        "
   ]
  },
  {
   "cell_type": "code",
   "execution_count": 8,
   "metadata": {},
   "outputs": [],
   "source": [
    "#Folders\n",
    "healthy_strong_monsters_fitness_static = \"/home/kaiolae/code/DirectFuturePrediction/examples/D3_battle_randobj_pos_neg_pretrained/reward_stats.csv\"\n",
    "healthy_strong_monsters_fitness_hardcoded = \"/home/kaiolae/code/DirectFuturePrediction/examples/EvolvingExperiment/reward_stats_with_dummy_rules.csv\"\n",
    "healthy_strong_monsters_fitness_dynamic = \"\""
   ]
  },
  {
   "cell_type": "code",
   "execution_count": 6,
   "metadata": {},
   "outputs": [
    {
     "name": "stdout",
     "output_type": "stream",
     "text": [
      "    Generation  Best_Fitness  Median_Fitness    StdDev\n",
      "0            0      2.227273       -3.773922  1.821379\n",
      "1            1      4.437500       -1.428571  2.268745\n",
      "2            2      4.437500       -0.682587  2.286770\n",
      "3            3      4.437500       -0.394737  2.451111\n",
      "4            4      4.777778       -0.095890  2.393041\n",
      "5            5      5.022727        0.308442  2.224437\n",
      "6            6      5.022727        0.804751  2.120678\n",
      "7            7      5.022727        1.230769  2.613965\n",
      "8            8      5.022727        1.253968  2.538761\n",
      "9            9      5.022727        0.862006  2.472432\n",
      "10          10      5.022727        1.373134  2.778985\n",
      "11          11      5.022727        1.169046  2.337390\n",
      "12          12      5.022727        1.000000  2.375822\n",
      "13          13      5.022727        1.488462  2.472295\n",
      "14          14      5.022727        1.558482  2.566691\n",
      "15          15      5.022727        1.921798  2.509666\n",
      "16          16      5.022727        1.640625  2.323509\n",
      "17          17      5.022727        1.714286  2.077151\n",
      "18          18      5.022727        2.050000  2.007101\n",
      "19          19      5.022727        2.081967  2.028681\n",
      "20          20      5.022727        1.983871  2.243734\n",
      "21          21      5.022727        1.250063  2.156928\n",
      "22          22      5.022727        2.247807  2.070411\n",
      "23          23      5.022727        2.170614  1.965868\n",
      "24          24      5.022727        1.886737  1.732272\n",
      "25          25      5.022727        2.100000  1.566568\n",
      "26          26      5.365854        2.162302  1.270149\n",
      "27          27      5.365854        2.161842  1.566044\n",
      "28          28      6.000000        1.783333  1.626479\n",
      "29          29      6.000000        2.271930  1.615257\n",
      "..         ...           ...             ...       ...\n",
      "70          70      6.447368        2.397013  2.045936\n",
      "71          71      6.447368        1.972252  2.321156\n",
      "72          72      6.447368        2.242412  2.193612\n",
      "73          73      6.447368        2.674561  2.196346\n",
      "74          74      6.447368        2.466981  2.696547\n",
      "75          75      6.447368        2.538929  2.568975\n",
      "76          76      6.447368        2.322169  2.161636\n",
      "77          77      6.447368        2.643040  2.443879\n",
      "78          78      6.447368        2.672414  2.065020\n",
      "79          79      6.447368        2.990196  2.114407\n",
      "80          80      6.447368        2.800000  2.060950\n",
      "81          81      6.447368        2.913984  2.064014\n",
      "82          82      6.447368        2.648148  2.098777\n",
      "83          83      6.447368        2.833462  1.886145\n",
      "84          84      6.447368        2.363636  2.284302\n",
      "85          85      6.447368        3.132075  1.989265\n",
      "86          86      6.447368        2.768007  2.028862\n",
      "87          87      6.447368        2.659976  2.316827\n",
      "88          88      6.447368        2.733276  2.262775\n",
      "89          89      6.447368        2.355171  1.778800\n",
      "90          90      6.447368        2.307398  2.520167\n",
      "91          91      6.447368        2.859881  2.421812\n",
      "92          92      6.447368        3.129510  2.678780\n",
      "93          93      6.447368        2.835784  2.251801\n",
      "94          94      6.447368        3.565149  1.395890\n",
      "95          95      6.447368        2.885341  2.273978\n",
      "96          96      6.447368        2.680721  1.943018\n",
      "97          97      6.447368        2.978333  1.970300\n",
      "98          98      6.447368        2.840496  2.491909\n",
      "99          99      6.447368        2.790675  2.159400\n",
      "\n",
      "[100 rows x 4 columns]\n"
     ]
    },
    {
     "data": {
      "text/plain": [
       "<matplotlib.axes._subplots.AxesSubplot at 0x7fea425d49e8>"
      ]
     },
     "execution_count": 6,
     "metadata": {},
     "output_type": "execute_result"
    },
    {
     "data": {
      "image/png": "[encoded data removed]",
      "text/plain": [
       "<Figure size 432x288 with 1 Axes>"
      ]
     },
     "metadata": {
      "needs_background": "light"
     },
     "output_type": "display_data"
    }
   ],
   "source": [
    "fitness_live_update_file = \"../fitness_summary.csv\"\n",
    "fitness_frame = pandas.read_csv(fitness_live_update_file, sep=\" \")\n",
    "print(fitness_frame)\n",
    "sns.lineplot(x='Generation', y='Best_Fitness', data=fitness_frame)\n",
    "sns.lineplot(x='Generation', y='Median_Fitness', data=fitness_frame)"
   ]
  },
  {
   "cell_type": "code",
   "execution_count": 9,
   "metadata": {},
   "outputs": [],
   "source": [
    "#Plotting NN outputs (that is, objective values) over generations.\n",
    "nn_output_file = \"../evolving_nn_outputs.csv\"\n",
    "nn_out_frame = pandas.read_csv(nn_output_file, sep=\" \", names=[\"Ammo\",\"Health\",\"Frags\"])\n",
    "#sns.lineplot(data=nn_out_frame)\n",
    "\n",
    "#nn_out_frame[5500:10000][\"o1\"].mean()\n",
    "summmary_nn_outputs=summarize_across_generations(nn_out_frame)"
   ]
  },
  {
   "cell_type": "code",
   "execution_count": 10,
   "metadata": {},
   "outputs": [
    {
     "data": {
      "text/plain": [
       "<matplotlib.axes._subplots.AxesSubplot at 0x7fea42354e10>"
      ]
     },
     "execution_count": 10,
     "metadata": {},
     "output_type": "execute_result"
    },
    {
     "data": {
      "image/png": "[encoded data removed]",
      "text/plain": [
       "<Figure size 432x288 with 1 Axes>"
      ]
     },
     "metadata": {
      "needs_background": "light"
     },
     "output_type": "display_data"
    }
   ],
   "source": [
    "#Dropping the last row. Seems I got a few to many items?\n",
    "summmary_nn_outputs.drop(summmary_nn_outputs.tail(1).index,inplace=True) # drop last n rows\n",
    "summmary_nn_outputs\n",
    "sns.lineplot(data=summmary_nn_outputs)"
   ]
  },
  {
   "cell_type": "code",
   "execution_count": null,
   "metadata": {},
   "outputs": [],
   "source": [
    "#Remember: 01-ammo, 02-health, 03-frags. \n",
    "#Quickly learns the 2 first are the most important.\n",
    "#In other words: The problem is too simple - strategy does not need\n",
    "#to depend on current state/measurements."
   ]
  },
  {
   "cell_type": "markdown",
   "metadata": {},
   "source": [
    "## Static Monsters"
   ]
  },
  {
   "cell_type": "code",
   "execution_count": 4,
   "metadata": {},
   "outputs": [
    {
     "data": {
      "text/plain": [
       "<matplotlib.axes._subplots.AxesSubplot at 0x7fd3c80b1ba8>"
      ]
     },
     "execution_count": 4,
     "metadata": {},
     "output_type": "execute_result"
    },
    {
     "data": {
      "image/png": "[encoded data removed]",
      "text/plain": [
       "<Figure size 432x288 with 1 Axes>"
      ]
     },
     "metadata": {
      "needs_background": "light"
     },
     "output_type": "display_data"
    }
   ],
   "source": [
    "#Difficult: Enemies have 10* more health, player has 40% init. health,\n",
    "#And death penalty =5, and enemies have 10* stronger attacks.\n",
    "rewards_frame = pandas.read_csv(healthy_strong_monsters_fitness_static)\n",
    "sns.boxplot(data=rewards_frame)"
   ]
  },
  {
   "cell_type": "markdown",
   "metadata": {},
   "source": [
    "## Performance of the hardcoded objective rules"
   ]
  },
  {
   "cell_type": "code",
   "execution_count": 9,
   "metadata": {},
   "outputs": [
    {
     "data": {
      "text/plain": [
       "<matplotlib.axes._subplots.AxesSubplot at 0x7fd35c22b780>"
      ]
     },
     "execution_count": 9,
     "metadata": {},
     "output_type": "execute_result"
    },
    {
     "data": {
      "image/png": "[encoded data removed]",
      "text/plain": [
       "<Figure size 432x288 with 1 Axes>"
      ]
     },
     "metadata": {
      "needs_background": "light"
     },
     "output_type": "display_data"
    }
   ],
   "source": [
    "#Rules that use default objectives when health is high,\n",
    "#but swaps to health only mode when health is low.\n",
    "rewards_frame = pandas.read_csv(healthy_strong_monsters_fitness_hardcoded)\n",
    "sns.boxplot(data=rewards_frame)"
   ]
  },
  {
   "cell_type": "code",
   "execution_count": null,
   "metadata": {},
   "outputs": [],
   "source": []
  },
  {
   "cell_type": "markdown",
   "metadata": {},
   "source": [
    "## Is Difference Significant?"
   ]
  },
  {
   "cell_type": "code",
   "execution_count": 13,
   "metadata": {},
   "outputs": [
    {
     "name": "stdout",
     "output_type": "stream",
     "text": [
      "    2.937500000000000000e+00\n",
      "0                   0.440000\n",
      "1                   2.277778\n",
      "2                   0.652174\n",
      "3                   0.240000\n",
      "4                   1.750000\n",
      "5                   1.944444\n",
      "6                   1.200000\n",
      "7                   1.950000\n",
      "8                   3.733333\n",
      "9                   2.157895\n",
      "10                  2.687500\n",
      "11                  2.736842\n",
      "12                  0.954545\n",
      "13                  1.894737\n",
      "14                  1.600000\n",
      "15                  0.714286\n",
      "16                  1.227273\n",
      "17                  2.625000\n",
      "18                  3.187500\n",
      "19                  3.058824\n",
      "    3.418604651162790553e+00\n",
      "0                   4.195122\n",
      "1                   3.604651\n",
      "2                   3.756098\n",
      "3                   4.162791\n",
      "4                   3.487805\n",
      "5                   5.384615\n",
      "6                   5.594595\n",
      "7                   2.909091\n",
      "8                   5.052632\n",
      "9                   5.736842\n",
      "10                  2.888889\n",
      "11                  4.333333\n",
      "12                  4.717949\n",
      "13                  5.250000\n",
      "14                  5.108108\n",
      "15                  4.487805\n",
      "16                  4.069767\n",
      "17                  5.388889\n",
      "18                  4.743590\n",
      "    4.088888888888888573e+00\n",
      "0                   4.340909\n",
      "1                   5.023810\n",
      "2                   3.276596\n",
      "3                   3.266667\n",
      "4                   3.813953\n",
      "5                   2.471698\n",
      "6                   4.875000\n",
      "7                   5.116279\n",
      "8                   4.204545\n",
      "9                   3.772727\n",
      "10                  4.090909\n",
      "11                  2.729167\n",
      "12                  4.292683\n",
      "13                  3.326087\n",
      "14                  2.891304\n",
      "15                  6.472222\n",
      "16                  4.463415\n",
      "17                  4.000000\n",
      "18                  3.750000\n"
     ]
    }
   ],
   "source": [
    "#Hardcoded rules seems to give significantly higher fitnesses?\n",
    "standard_average_rewards_file = \"/home/kaiolae/code/DirectFuturePrediction/examples/D3_battle_randobj_pos_neg_pretrained/reward_stats.csv\"\n",
    "static_rules_fitnesses = pandas.read_csv(standard_average_rewards_file)\n",
    "print(static_rules_fitnesses)\n",
    "\n",
    "manual_obj_rewards_file = \"/home/kaiolae/code/DirectFuturePrediction/examples/EvolvingExperiment/reward_stats_with_dummy_rules.csv\"\n",
    "dynamic_manual_rules_fitnesses = pandas.read_csv(manual_obj_rewards_file)\n",
    "print(dynamic_manual_rules_fitnesses)\n",
    "\n",
    "evolved_nn_fitnesses_file = \"../reward_stats_with_evolved_nn.csv\"\n",
    "evolved_nn_fitnesses_frame = pandas.read_csv(evolved_nn_fitnesses_file)\n",
    "print(evolved_nn_fitnesses_frame)"
   ]
  },
  {
   "cell_type": "code",
   "execution_count": 15,
   "metadata": {},
   "outputs": [
    {
     "name": "stdout",
     "output_type": "stream",
     "text": [
      "Static vs Dynamic:  MannwhitneyuResult(statistic=8.0, pvalue=1.7008736382252074e-07)\n",
      "Static vs Evolved:  MannwhitneyuResult(statistic=16.0, pvalue=5.442375698096838e-07)\n",
      "Dynamic vs Evolved:  MannwhitneyuResult(statistic=123.0, pvalue=0.04804616472783665)\n"
     ]
    }
   ],
   "source": [
    "import scipy.stats as st\n",
    "print(\"Static vs Dynamic: \", st.mannwhitneyu(static_rules_fitnesses, dynamic_manual_rules_fitnesses))\n",
    "print(\"Static vs Evolved: \", st.mannwhitneyu(static_rules_fitnesses, evolved_nn_fitnesses_frame))\n",
    "print(\"Dynamic vs Evolved: \", st.mannwhitneyu(dynamic_manual_rules_fitnesses, evolved_nn_fitnesses_frame))"
   ]
  },
  {
   "cell_type": "code",
   "execution_count": 16,
   "metadata": {},
   "outputs": [
    {
     "name": "stdout",
     "output_type": "stream",
     "text": [
      "    4.088888888888888573e+00\n",
      "0                   4.340909\n",
      "1                   5.023810\n",
      "2                   3.276596\n",
      "3                   3.266667\n",
      "4                   3.813953\n",
      "5                   2.471698\n",
      "6                   4.875000\n",
      "7                   5.116279\n",
      "8                   4.204545\n",
      "9                   3.772727\n",
      "10                  4.090909\n",
      "11                  2.729167\n",
      "12                  4.292683\n",
      "13                  3.326087\n",
      "14                  2.891304\n",
      "15                  6.472222\n",
      "16                  4.463415\n",
      "17                  4.000000\n",
      "18                  3.750000\n",
      "    2.937500000000000000e+00  3.418604651162790553e+00  \\\n",
      "0                   0.440000                       NaN   \n",
      "1                   2.277778                       NaN   \n",
      "2                   0.652174                       NaN   \n",
      "3                   0.240000                       NaN   \n",
      "4                   1.750000                       NaN   \n",
      "5                   1.944444                       NaN   \n",
      "6                   1.200000                       NaN   \n",
      "7                   1.950000                       NaN   \n",
      "8                   3.733333                       NaN   \n",
      "9                   2.157895                       NaN   \n",
      "10                  2.687500                       NaN   \n",
      "11                  2.736842                       NaN   \n",
      "12                  0.954545                       NaN   \n",
      "13                  1.894737                       NaN   \n",
      "14                  1.600000                       NaN   \n",
      "15                  0.714286                       NaN   \n",
      "16                  1.227273                       NaN   \n",
      "17                  2.625000                       NaN   \n",
      "18                  3.187500                       NaN   \n",
      "19                  3.058824                       NaN   \n",
      "0                        NaN                  4.195122   \n",
      "1                        NaN                  3.604651   \n",
      "2                        NaN                  3.756098   \n",
      "3                        NaN                  4.162791   \n",
      "4                        NaN                  3.487805   \n",
      "5                        NaN                  5.384615   \n",
      "6                        NaN                  5.594595   \n",
      "7                        NaN                  2.909091   \n",
      "8                        NaN                  5.052632   \n",
      "9                        NaN                  5.736842   \n",
      "10                       NaN                  2.888889   \n",
      "11                       NaN                  4.333333   \n",
      "12                       NaN                  4.717949   \n",
      "13                       NaN                  5.250000   \n",
      "14                       NaN                  5.108108   \n",
      "15                       NaN                  4.487805   \n",
      "16                       NaN                  4.069767   \n",
      "17                       NaN                  5.388889   \n",
      "18                       NaN                  4.743590   \n",
      "0                        NaN                       NaN   \n",
      "1                        NaN                       NaN   \n",
      "2                        NaN                       NaN   \n",
      "3                        NaN                       NaN   \n",
      "4                        NaN                       NaN   \n",
      "5                        NaN                       NaN   \n",
      "6                        NaN                       NaN   \n",
      "7                        NaN                       NaN   \n",
      "8                        NaN                       NaN   \n",
      "9                        NaN                       NaN   \n",
      "10                       NaN                       NaN   \n",
      "11                       NaN                       NaN   \n",
      "12                       NaN                       NaN   \n",
      "13                       NaN                       NaN   \n",
      "14                       NaN                       NaN   \n",
      "15                       NaN                       NaN   \n",
      "16                       NaN                       NaN   \n",
      "17                       NaN                       NaN   \n",
      "18                       NaN                       NaN   \n",
      "\n",
      "    4.088888888888888573e+00  \n",
      "0                        NaN  \n",
      "1                        NaN  \n",
      "2                        NaN  \n",
      "3                        NaN  \n",
      "4                        NaN  \n",
      "5                        NaN  \n",
      "6                        NaN  \n",
      "7                        NaN  \n",
      "8                        NaN  \n",
      "9                        NaN  \n",
      "10                       NaN  \n",
      "11                       NaN  \n",
      "12                       NaN  \n",
      "13                       NaN  \n",
      "14                       NaN  \n",
      "15                       NaN  \n",
      "16                       NaN  \n",
      "17                       NaN  \n",
      "18                       NaN  \n",
      "19                       NaN  \n",
      "0                        NaN  \n",
      "1                        NaN  \n",
      "2                        NaN  \n",
      "3                        NaN  \n",
      "4                        NaN  \n",
      "5                        NaN  \n",
      "6                        NaN  \n",
      "7                        NaN  \n",
      "8                        NaN  \n",
      "9                        NaN  \n",
      "10                       NaN  \n",
      "11                       NaN  \n",
      "12                       NaN  \n",
      "13                       NaN  \n",
      "14                       NaN  \n",
      "15                       NaN  \n",
      "16                       NaN  \n",
      "17                       NaN  \n",
      "18                       NaN  \n",
      "0                   4.340909  \n",
      "1                   5.023810  \n",
      "2                   3.276596  \n",
      "3                   3.266667  \n",
      "4                   3.813953  \n",
      "5                   2.471698  \n",
      "6                   4.875000  \n",
      "7                   5.116279  \n",
      "8                   4.204545  \n",
      "9                   3.772727  \n",
      "10                  4.090909  \n",
      "11                  2.729167  \n",
      "12                  4.292683  \n",
      "13                  3.326087  \n",
      "14                  2.891304  \n",
      "15                  6.472222  \n",
      "16                  4.463415  \n",
      "17                  4.000000  \n",
      "18                  3.750000  \n"
     ]
    },
    {
     "data": {
      "image/png": "[encoded data removed]",
      "text/plain": [
       "<Figure size 432x288 with 1 Axes>"
      ]
     },
     "metadata": {
      "needs_background": "light"
     },
     "output_type": "display_data"
    }
   ],
   "source": [
    "frames = [static_rules_fitnesses, dynamic_manual_rules_fitnesses, evolved_nn_fitnesses_frame]\n",
    "print(evolved_nn_fitnesses_frame)\n",
    "concatenated = pandas.concat(frames, names = [\"Static\", \"Dynamic\", \"Evolved\"],sort=False)\n",
    "sns.boxplot(data=concatenated)\n",
    "print(concatenated)"
   ]
  },
  {
   "cell_type": "code",
   "execution_count": null,
   "metadata": {},
   "outputs": [],
   "source": [
    "#Left: Agent that always follows same rule. Middle: Agent that goes for\n",
    "#health only when injured. Right: EA found agent almost as good as the \n",
    "#hand-written dynamic rule.\n",
    "\n",
    "#The way I test if EA works: Take the evolved objectives-choosing agent,\n",
    "#Run it 20 times and collect fitness. Compare to the fitness of 20 \n",
    "#runs of the static agent.\n",
    "#Of course, later, I should evolve 20 agents as a better control."
   ]
  }
 ],
 "metadata": {
  "kernelspec": {
   "display_name": "world_models_cpu",
   "language": "python",
   "name": "world_models_cpu"
  },
  "language_info": {
   "codemirror_mode": {
    "name": "ipython",
    "version": 3
   },
   "file_extension": ".py",
   "mimetype": "text/x-python",
   "name": "python",
   "nbconvert_exporter": "python",
   "pygments_lexer": "ipython3",
   "version": "3.6.6"
  }
 },
 "nbformat": 4,
 "nbformat_minor": 2
}
