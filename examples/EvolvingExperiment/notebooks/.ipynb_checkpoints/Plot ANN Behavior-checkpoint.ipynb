{
 "cells": [
  {
   "cell_type": "code",
   "execution_count": 13,
   "metadata": {},
   "outputs": [],
   "source": [
    "#Plots ANN inputs (measurements) vs the outputs (objectives)\n",
    "import pandas\n",
    "import seaborn as sns\n",
    "import numpy as np\n",
    "#Params\n",
    "population_size=50"
   ]
  },
  {
   "cell_type": "code",
   "execution_count": 8,
   "metadata": {},
   "outputs": [
    {
     "data": {
      "text/plain": [
       "(7974, 7)"
      ]
     },
     "execution_count": 8,
     "metadata": {},
     "output_type": "execute_result"
    }
   ],
   "source": [
    "behavior_file = \"../nn_behavior_measures_to_objectives.csv\"\n",
    "behavior_frame = pandas.read_csv(behavior_file, sep=\" \")\n",
    "behavior_frame.shape"
   ]
  },
  {
   "cell_type": "code",
   "execution_count": null,
   "metadata": {},
   "outputs": [],
   "source": [
    "#Method for summarizing and plotting averages for 1 measurement.\n",
    "def summarize_measurement_and_plot_objectives(dataframe, main_objective):\n",
    "    meas_to_objectives_array = []\n",
    "    unique_main_measures = dataframe[main_objective].unique()\n",
    "    for unique_measure in unique_main_measures:\n",
    "        #All frames with given value for the column\n",
    "        sub_frame=dataframe.loc[dataframe[main_objective] == unique_measure]\n",
    "        objective_means = [sub_frame[\"o_ammo\"].mean(), sub_frame[\"o_health\"].mean(),sub_frame[\"o_frags\"].mean()]\n",
    "        meas_to_objectives_array.append([unique_measure,*objective_means])\n",
    "\n",
    "    meas_to_objectives_array=np.array(meas_to_objectives_array)\n",
    "    df = pandas.DataFrame(meas_to_objectives_array, columns=[main_objective, 'o_ammo', 'o_health', 'o_frags'])\n",
    "    df.plot(x=main_objective, y=['o_ammo', 'o_health', 'o_frags'])\n"
   ]
  },
  {
   "cell_type": "markdown",
   "metadata": {},
   "source": [
    "## Plotting objectives as health changes"
   ]
  },
  {
   "cell_type": "code",
   "execution_count": 18,
   "metadata": {},
   "outputs": [
    {
     "data": {
      "text/plain": [
       "<matplotlib.axes._subplots.AxesSubplot at 0x7fc801340e10>"
      ]
     },
     "execution_count": 18,
     "metadata": {},
     "output_type": "execute_result"
    },
    {
     "data": {
      "image/png": "[encoded data removed]",
      "text/plain": [
       "<Figure size 432x288 with 1 Axes>"
      ]
     },
     "metadata": {
      "needs_background": "light"
     },
     "output_type": "display_data"
    }
   ],
   "source": [
    "#Plotting across the average value for the other measures.\n",
    "\n",
    "health_to_objectives_array = []\n",
    "unique_health_measures = behavior_frame[\"m_health\"].unique()\n",
    "for health_measure in unique_health_measures:\n",
    "    #All frames with given value for the column\n",
    "    sub_frame=behavior_frame.loc[behavior_frame[\"m_health\"] == health_measure]\n",
    "    objective_means = [sub_frame[\"o_ammo\"].mean(), sub_frame[\"o_health\"].mean(),sub_frame[\"o_frags\"].mean()]\n",
    "    health_to_objectives_array.append([health_measure,*objective_means])\n",
    "\n",
    "health_to_objectives_array=np.array(health_to_objectives_array)\n",
    "df = pandas.DataFrame(health_to_objectives_array, columns=['measurement', 'o_ammo', 'o_health', 'o_frags'])\n",
    "df.plot(x='measurement', y=['o_ammo', 'o_health', 'o_frags'])\n",
    "\n",
    "\n"
   ]
  },
  {
   "cell_type": "code",
   "execution_count": null,
   "metadata": {},
   "outputs": [],
   "source": []
  }
 ],
 "metadata": {
  "kernelspec": {
   "display_name": "world_models_cpu",
   "language": "python",
   "name": "world_models_cpu"
  },
  "language_info": {
   "codemirror_mode": {
    "name": "ipython",
    "version": 3
   },
   "file_extension": ".py",
   "mimetype": "text/x-python",
   "name": "python",
   "nbconvert_exporter": "python",
   "pygments_lexer": "ipython3",
   "version": "3.6.6"
  }
 },
 "nbformat": 4,
 "nbformat_minor": 2
}
